{
 "cells": [
  {
   "cell_type": "markdown",
   "metadata": {},
   "source": [
    "## We create the selected Extra Trees Classifier model from PyCaret"
   ]
  },
  {
   "cell_type": "code",
   "execution_count": 132,
   "metadata": {},
   "outputs": [],
   "source": [
    "from numpy import mean\n",
    "from numpy import std\n",
    "from sklearn.model_selection import cross_val_score\n",
    "from sklearn.model_selection import cross_val_predict\n",
    "from sklearn.model_selection import RepeatedStratifiedKFold\n",
    "from sklearn.ensemble import ExtraTreesClassifier\n",
    "from sklearn.model_selection import train_test_split\n",
    "from sklearn.pipeline import Pipeline\n",
    "from sklearn.model_selection import GridSearchCV\n",
    "from sklearn.impute import SimpleImputer\n",
    "from sklearn.preprocessing import StandardScaler\n",
    "from sklearn.compose import ColumnTransformer\n",
    "from sklearn.feature_selection import SelectKBest\n",
    "from sklearn.feature_selection import f_regression"
   ]
  },
  {
   "cell_type": "code",
   "execution_count": 101,
   "metadata": {},
   "outputs": [],
   "source": [
    "import warnings\n",
    "#warnings.simplefilter(\"ignore\")\n",
    "warnings.filterwarnings(\"ignore\")"
   ]
  },
  {
   "cell_type": "code",
   "execution_count": 207,
   "metadata": {},
   "outputs": [
    {
     "name": "stdout",
     "output_type": "stream",
     "text": [
      "Wall time: 8.71 s\n"
     ]
    }
   ],
   "source": [
    "%%time\n",
    "\n",
    "#Load data\n",
    "#Extract the first 200,000 rows\n",
    "zf = zipfile.ZipFile('data/jane-street-market-prediction.zip') \n",
    "df_train = pd.read_csv(zf.open('train.csv'), nrows=100000)"
   ]
  },
  {
   "cell_type": "code",
   "execution_count": 24,
   "metadata": {},
   "outputs": [],
   "source": [
    "#df_train.info()"
   ]
  },
  {
   "cell_type": "code",
   "execution_count": 208,
   "metadata": {},
   "outputs": [],
   "source": [
    "##PREPROCESING##\n",
    "\n",
    "# Drop rows with 'weight'=0 \n",
    "df_train = df_train[df_train['weight']!=0]\n",
    "#df_train = df_train.loc[df_train.weight != 0]\n",
    "\n",
    "# Create 'action' column (target)\n",
    "# The objetive is maximise the utility function pi=∑j(weightij∗respij∗actionij) where positive values of resp will increase pi\n",
    "#df_train['action'] = df_train['resp'].apply(lambda x:x>0).astype(int)\n",
    "df_train['action'] = (df_train['resp'] > 0).astype('int')\n",
    "\n",
    "#Select the model´s variables (features alone)\n",
    "features = [c for c in df_train.columns if 'feature' in c]\n",
    "#df_train = pd.concat([df_train[features],df_train.action], axis=1)\n",
    "\n",
    "X = df_train[features]\n",
    "y = df_train['action']"
   ]
  },
  {
   "cell_type": "code",
   "execution_count": 104,
   "metadata": {},
   "outputs": [],
   "source": [
    "# Train and test data\n",
    "train_x, test_x, train_y, test_y = train_test_split(X, y, test_size=0.3)"
   ]
  },
  {
   "cell_type": "code",
   "execution_count": 105,
   "metadata": {},
   "outputs": [],
   "source": [
    "#First estrategy\n",
    "#Fill nan values with 0\n",
    "train_x.fillna(0,inplace=True)\n",
    "test_x.fillna(0,inplace=True)\n",
    "\n",
    "#Second estrategy\n",
    "#Fill nan values with median\n",
    "#train_median = train_x.median()\n",
    "#train_x = train_x.fillna(train_median)\n",
    "#test_x = test_x.fillna(train_median)\n",
    "\n",
    "#Third estrategy\n",
    "#Lineal Interpolation\n",
    "#train_x.interpolate(method='linear', inplace=True)"
   ]
  },
  {
   "cell_type": "code",
   "execution_count": 106,
   "metadata": {},
   "outputs": [
    {
     "data": {
      "text/plain": [
       "0"
      ]
     },
     "execution_count": 106,
     "metadata": {},
     "output_type": "execute_result"
    }
   ],
   "source": [
    "train_x.isnull().sum().sum()"
   ]
  },
  {
   "cell_type": "code",
   "execution_count": 107,
   "metadata": {},
   "outputs": [],
   "source": [
    "#Check that we have removed all other null and infinite values\n",
    "train_x.replace([np.inf, -np.inf], np.nan, inplace=True)"
   ]
  },
  {
   "cell_type": "code",
   "execution_count": 108,
   "metadata": {},
   "outputs": [
    {
     "data": {
      "text/plain": [
       "array([dtype('int64'), dtype('float64')], dtype=object)"
      ]
     },
     "execution_count": 108,
     "metadata": {},
     "output_type": "execute_result"
    }
   ],
   "source": [
    "#We make sure the values are numeric\n",
    "train_x.dtypes.unique()"
   ]
  },
  {
   "cell_type": "code",
   "execution_count": 15,
   "metadata": {},
   "outputs": [],
   "source": [
    "from sklearn.metrics import accuracy_score, auc, confusion_matrix, f1_score, precision_score, recall_score, roc_curve\n",
    "\n",
    "def metricas_modelos(y_true, y_pred):\n",
    "    from sklearn.metrics import accuracy_score, auc, confusion_matrix, f1_score, precision_score, recall_score, roc_curve\n",
    "\n",
    "    # Obtención de matriz de confusión\n",
    "    confusion_matrix = confusion_matrix(y_true, y_pred)\n",
    "\n",
    "    print(\"La matriz de confusión es \")\n",
    "    print(confusion_matrix)\n",
    "\n",
    "    print('Precisión:', accuracy_score(y_true, y_pred))\n",
    "    print('Exactitud:', precision_score(y_true, y_pred))\n",
    "    print('Exhaustividad:', recall_score(y_true, y_pred))\n",
    "    print('F1:', f1_score(y_true, y_pred))\n",
    "\n",
    "    false_positive_rate, recall, thresholds = roc_curve(y_true, y_pred)\n",
    "    roc_auc = auc(false_positive_rate, recall)\n",
    "\n",
    "    print('AUC:', auc(false_positive_rate, recall))\n",
    "\n",
    "    plot(false_positive_rate, recall, 'b')\n",
    "    plot([0, 1], [0, 1], 'r--')\n",
    "    title('AUC = %0.2f' % roc_auc)"
   ]
  },
  {
   "cell_type": "code",
   "execution_count": 109,
   "metadata": {},
   "outputs": [],
   "source": [
    "# define the model from PyCaret Optimization\n",
    "etc = ExtraTreesClassifier(bootstrap=False, ccp_alpha=0.0, class_weight=None,\n",
    "                     criterion='gini', max_depth=None, max_features='auto',\n",
    "                     max_leaf_nodes=None, max_samples=None,\n",
    "                     min_impurity_decrease=0.0, min_impurity_split=None,\n",
    "                     min_samples_leaf=1, min_samples_split=2,\n",
    "                     min_weight_fraction_leaf=0.0, n_estimators=100, n_jobs=-1,\n",
    "                     oob_score=False, random_state=7870, verbose=0,\n",
    "                     warm_start=False)"
   ]
  },
  {
   "cell_type": "code",
   "execution_count": 110,
   "metadata": {},
   "outputs": [
    {
     "name": "stdout",
     "output_type": "stream",
     "text": [
      "La matriz de confusión es \n",
      "[[26212     0]\n",
      " [    0 28219]]\n",
      "Precisión: 1.0\n",
      "Exactitud: 1.0\n",
      "Exhaustividad: 1.0\n",
      "F1: 1.0\n",
      "AUC: 1.0\n"
     ]
    },
    {
     "data": {
      "image/png": "[encoded data removed]",
      "text/plain": [
       "<Figure size 432x288 with 1 Axes>"
      ]
     },
     "metadata": {
      "needs_background": "light"
     },
     "output_type": "display_data"
    }
   ],
   "source": [
    "etc.fit(train_x, train_y)\n",
    "y_pred = etc.predict(train_x)\n",
    "\n",
    "metricas_modelos(train_y, y_pred)"
   ]
  },
  {
   "cell_type": "code",
   "execution_count": 111,
   "metadata": {},
   "outputs": [
    {
     "name": "stdout",
     "output_type": "stream",
     "text": [
      "La matriz de confusión es \n",
      "[[7219 3891]\n",
      " [3415 8803]]\n",
      "Precisión: 0.6868141289437586\n",
      "Exactitud: 0.6934772333385851\n",
      "Exhaustividad: 0.7204943525945326\n",
      "F1: 0.7067276814386642\n",
      "AUC: 0.6851346650461411\n"
     ]
    },
    {
     "data": {
      "image/png": "[encoded data removed]",
      "text/plain": [
       "<Figure size 432x288 with 1 Axes>"
      ]
     },
     "metadata": {
      "needs_background": "light"
     },
     "output_type": "display_data"
    }
   ],
   "source": [
    "#Check Overfitting in tets df\n",
    "y_pred_test = etc.predict(test_x)\n",
    "metricas_modelos(test_y, y_pred_test)"
   ]
  },
  {
   "cell_type": "markdown",
   "metadata": {},
   "source": [
    "We see that there is **overfit** so we try it with a **cross-validation** and all records."
   ]
  },
  {
   "cell_type": "markdown",
   "metadata": {},
   "source": [
    "### Cross Validation\n",
    "Note: In this case a typical error is to use the previously separated training datasets. Because cross-validation already performs data separation in the specified number of sets and validates with data that the model has not seen, **all data** must be used."
   ]
  },
  {
   "cell_type": "code",
   "execution_count": 209,
   "metadata": {},
   "outputs": [],
   "source": [
    "#Preprocessing\n",
    "#Fill inf values with nan\n",
    "X.replace([np.inf, -np.inf], np.nan, inplace=True)\n",
    "#Fill nan values with 0\n",
    "X.fillna(0,inplace=True)\n",
    "y.fillna(0,inplace=True)"
   ]
  },
  {
   "cell_type": "code",
   "execution_count": 113,
   "metadata": {},
   "outputs": [
    {
     "name": "stdout",
     "output_type": "stream",
     "text": [
      "Accuracy: 0.703 (0.006)\n",
      "Wall time: 5min 2s\n"
     ]
    }
   ],
   "source": [
    "%%time\n",
    "# evaluate the model using repeated stratified k-fold cross-validation, with three repeats and 10 folds.\n",
    "cv = RepeatedStratifiedKFold(n_splits=10, n_repeats=3, random_state=1)\n",
    "n_scores = cross_val_score(etc, X, y, scoring='accuracy', cv=cv, n_jobs=-1, error_score='raise')\n",
    "# report performance\n",
    "print('Accuracy: %.3f (%.3f)' % (mean(n_scores), std(n_scores)))\n"
   ]
  },
  {
   "cell_type": "code",
   "execution_count": 118,
   "metadata": {},
   "outputs": [
    {
     "name": "stdout",
     "output_type": "stream",
     "text": [
      "La matriz de confusión es \n",
      "[[17572 19750]\n",
      " [16665 23772]]\n",
      "Precisión: 0.531694080427989\n",
      "Exactitud: 0.5462065162446579\n",
      "Exhaustividad: 0.5878774389791528\n",
      "F1: 0.56627639681273\n",
      "AUC: 0.5293494691814472\n"
     ]
    },
    {
     "data": {
      "image/png": "[encoded data removed]",
      "text/plain": [
       "<Figure size 432x288 with 1 Axes>"
      ]
     },
     "metadata": {
      "needs_background": "light"
     },
     "output_type": "display_data"
    }
   ],
   "source": [
    "#We represent Accuracy and AUC over 100,000 rows of dataframe\n",
    "y_pred_cv = cross_val_predict(etc,\n",
    "                         X,\n",
    "                         y,\n",
    "                         cv = 10)\n",
    "\n",
    "metricas_modelos(y, y_pred_cv)"
   ]
  },
  {
   "cell_type": "code",
   "execution_count": 119,
   "metadata": {},
   "outputs": [
    {
     "name": "stdout",
     "output_type": "stream",
     "text": [
      "(54431, 130)\n",
      "(23328, 130)\n"
     ]
    }
   ],
   "source": [
    "print(train_x.shape)\n",
    "print(test_x.shape)"
   ]
  },
  {
   "cell_type": "code",
   "execution_count": 122,
   "metadata": {},
   "outputs": [
    {
     "name": "stdout",
     "output_type": "stream",
     "text": [
      "La matriz de confusión es \n",
      "[[16850  9362]\n",
      " [ 8051 20168]]\n",
      "Precisión: 0.6800903896676527\n",
      "Exactitud: 0.6829664747714189\n",
      "Exhaustividad: 0.7146957723519615\n",
      "F1: 0.6984709691942718\n",
      "AUC: 0.6787655574715705\n"
     ]
    },
    {
     "data": {
      "image/png": "[encoded data removed]",
      "text/plain": [
       "<Figure size 432x288 with 1 Axes>"
      ]
     },
     "metadata": {
      "needs_background": "light"
     },
     "output_type": "display_data"
    }
   ],
   "source": [
    "#We represent Accuracy Accuracy and AUC over 54,431 rows of train df\n",
    "y_pred_cv = cross_val_predict(etc,\n",
    "                         train_x,\n",
    "                         train_y,\n",
    "                         cv = 10)\n",
    "\n",
    "metricas_modelos(train_y, y_pred_cv)"
   ]
  },
  {
   "cell_type": "code",
   "execution_count": 121,
   "metadata": {},
   "outputs": [
    {
     "name": "stdout",
     "output_type": "stream",
     "text": [
      "La matriz de confusión es \n",
      "[[6316 4794]\n",
      " [3800 8418]]\n",
      "Precisión: 0.6316015089163237\n",
      "Exactitud: 0.6371480472297911\n",
      "Exhaustividad: 0.6889834670158782\n",
      "F1: 0.6620526936688951\n",
      "AUC: 0.6287401583504234\n"
     ]
    },
    {
     "data": {
      "image/png": "[encoded data removed]",
      "text/plain": [
       "<Figure size 432x288 with 1 Axes>"
      ]
     },
     "metadata": {
      "needs_background": "light"
     },
     "output_type": "display_data"
    }
   ],
   "source": [
    "#Tested performance on df test selection (23,328 records)\n",
    "y_pred_cv = cross_val_predict(etc,\n",
    "                         test_x,\n",
    "                         test_y,\n",
    "                         cv = 10)\n",
    "\n",
    "metricas_modelos(test_y, y_pred_cv)\n"
   ]
  },
  {
   "cell_type": "markdown",
   "metadata": {},
   "source": [
    "Optimizamos los parámetros del modelo con validación cruzada desde `GridSearchCV`"
   ]
  },
  {
   "cell_type": "code",
   "execution_count": null,
   "metadata": {},
   "outputs": [],
   "source": [
    "#Original model parameters\n",
    "etc = ExtraTreesClassifier(bootstrap=False, ccp_alpha=0.0, class_weight=None,\n",
    "                     criterion='gini', max_depth=None, max_features='auto',\n",
    "                     max_leaf_nodes=None, max_samples=None,\n",
    "                     min_impurity_decrease=0.0, min_impurity_split=None,\n",
    "                     min_samples_leaf=1, min_samples_split=2,\n",
    "                     min_weight_fraction_leaf=0.0, n_estimators=100, n_jobs=-1,\n",
    "                     oob_score=False, random_state=7870, verbose=0,\n",
    "                     warm_start=False)"
   ]
  },
  {
   "cell_type": "code",
   "execution_count": 123,
   "metadata": {},
   "outputs": [
    {
     "name": "stdout",
     "output_type": "stream",
     "text": [
      "El rendimiento el modelo es: 1.00000\n",
      "Wall time: 32min 57s\n"
     ]
    }
   ],
   "source": [
    "%%time\n",
    "\n",
    "import warnings\n",
    "#warnings.simplefilter(\"ignore\")\n",
    "warnings.filterwarnings(\"ignore\")\n",
    "\n",
    "#model = ExtraTreesRegressor(n_estimators=100, n_jobs=4, min_samples_split=25,\n",
    "#                            min_samples_leaf=35, max_features=150)\n",
    "\n",
    "cv2 = RepeatedStratifiedKFold(n_splits=10, n_repeats=3, random_state=1)\n",
    "\n",
    "grid = GridSearchCV(\n",
    "    estimator=etc,\n",
    "    param_grid={\n",
    "        'criterion': ['entropy'],#['gini', 'entropy'], #grid.best_params_ = {'criterion': 'entropy'}\n",
    "        'n_estimators': [100],#range(25,125,25),#grid.best_params_ = {'n_estimators': 100}\n",
    "        'max_depth': [100], #range(1,100,25),#grid.best_params_ = {'max_depth': 100}\n",
    "        'max_features': [100],#range(50,150,50),#grid.best_params_ = {'n_estimators': 100}\n",
    "        #'min_samples_leaf': range(1,50,5),#grid.best_params_ = {'min_samples_leaf': 1}\n",
    "        #'min_samples_split': range(1,50,5),\n",
    "    },\n",
    "    #scoring='r2',\n",
    "    cv=cv2\n",
    "        \n",
    ")\n",
    "\n",
    "grid.fit(X, y)\n",
    "print(u'El rendimiento el modelo es: %0.5f' % grid.score(X, y))"
   ]
  },
  {
   "cell_type": "code",
   "execution_count": 191,
   "metadata": {},
   "outputs": [
    {
     "name": "stdout",
     "output_type": "stream",
     "text": [
      "Best parameter (CV score=0.762):\n",
      "{'criterion': 'entropy', 'max_depth': 100, 'max_features': 100, 'n_estimators': 100}\n"
     ]
    }
   ],
   "source": [
    "print(\"Best parameter (CV score=%0.3f):\" % grid.best_score_)\n",
    "print(grid.best_params_)"
   ]
  },
  {
   "cell_type": "code",
   "execution_count": 125,
   "metadata": {},
   "outputs": [
    {
     "name": "stdout",
     "output_type": "stream",
     "text": [
      "El rendimiento el modelo es: 0.76218\n"
     ]
    }
   ],
   "source": [
    "print(u'El rendimiento el modelo es: %0.5f' % grid.best_score_)"
   ]
  },
  {
   "cell_type": "code",
   "execution_count": 126,
   "metadata": {},
   "outputs": [
    {
     "name": "stdout",
     "output_type": "stream",
     "text": [
      "Wall time: 3min 49s\n"
     ]
    },
    {
     "data": {
      "text/plain": [
       "ExtraTreesClassifier(criterion='entropy', max_depth=100, max_features=100)"
      ]
     },
     "execution_count": 126,
     "metadata": {},
     "output_type": "execute_result"
    }
   ],
   "source": [
    "%%time\n",
    "\n",
    "model_et = ExtraTreesClassifier(**grid.best_params_)\n",
    "\n",
    "model_et.fit(X, y)"
   ]
  },
  {
   "cell_type": "markdown",
   "metadata": {},
   "source": [
    "### Automate the process with Pipeline"
   ]
  },
  {
   "cell_type": "code",
   "execution_count": 127,
   "metadata": {},
   "outputs": [
    {
     "name": "stdout",
     "output_type": "stream",
     "text": [
      "<class 'pandas.core.frame.DataFrame'>\n",
      "Int64Index: 77759 entries, 1 to 99999\n",
      "Columns: 130 entries, feature_0 to feature_129\n",
      "dtypes: float64(129), int64(1)\n",
      "memory usage: 77.7 MB\n"
     ]
    }
   ],
   "source": [
    "X.info()"
   ]
  },
  {
   "cell_type": "code",
   "execution_count": 128,
   "metadata": {},
   "outputs": [],
   "source": [
    "#transformations that we apply to numeric variables\n",
    "numeric_transformer = Pipeline(steps=[\n",
    "    ('imputer', SimpleImputer(strategy='median')),\n",
    "    ('scaler', StandardScaler())])\n",
    "\n",
    "#If you want to select a particular type of Column\n",
    "numeric_features = X.select_dtypes(include=['int64', 'float64']).columns\n",
    "#categorical_features = X.select_dtypes(include=['object']).drop(['action'], axis=1).columns\n",
    "\n",
    "preprocessor = ColumnTransformer(\n",
    "    transformers=[('num', numeric_transformer, numeric_features)])\n",
    "        #('num', numeric_transformer, numeric_features),\n",
    "        #('cat', categorical_transformer, categorical_features)])"
   ]
  },
  {
   "cell_type": "code",
   "execution_count": 129,
   "metadata": {},
   "outputs": [
    {
     "name": "stdout",
     "output_type": "stream",
     "text": [
      "El rendimiento el modelo es: 1.00000\n",
      "Wall time: 3min 53s\n"
     ]
    }
   ],
   "source": [
    "%%time\n",
    "\n",
    "pipe = Pipeline(steps=[('preprocessor', preprocessor),\n",
    "                      ('model', model_et)])\n",
    "\n",
    "#pipe = Pipeline([('model', model)])\n",
    "\n",
    "pipe.fit(X, y)\n",
    "\n",
    "pipe.score(test_x, test_y)\n",
    "print(u'El rendimiento el modelo es: %0.5f' % pipe.score(X, y))"
   ]
  },
  {
   "cell_type": "code",
   "execution_count": 130,
   "metadata": {},
   "outputs": [
    {
     "name": "stdout",
     "output_type": "stream",
     "text": [
      "La matriz de confusión es \n",
      "[[26212     0]\n",
      " [    0 28219]]\n",
      "Precisión: 1.0\n",
      "Exactitud: 1.0\n",
      "Exhaustividad: 1.0\n",
      "F1: 1.0\n",
      "AUC: 1.0\n"
     ]
    },
    {
     "data": {
      "image/png": "[encoded data removed]",
      "text/plain": [
       "<Figure size 432x288 with 1 Axes>"
      ]
     },
     "metadata": {
      "needs_background": "light"
     },
     "output_type": "display_data"
    }
   ],
   "source": [
    "#Check with train and test set to see if there is overfit in model performance\n",
    "y_pred = pipe.predict(train_x)\n",
    "\n",
    "metricas_modelos(train_y, y_pred)"
   ]
  },
  {
   "cell_type": "code",
   "execution_count": 131,
   "metadata": {},
   "outputs": [
    {
     "name": "stdout",
     "output_type": "stream",
     "text": [
      "La matriz de confusión es \n",
      "[[11110     0]\n",
      " [    0 12218]]\n",
      "Precisión: 1.0\n",
      "Exactitud: 1.0\n",
      "Exhaustividad: 1.0\n",
      "F1: 1.0\n",
      "AUC: 1.0\n"
     ]
    },
    {
     "data": {
      "image/png": "[encoded data removed]",
      "text/plain": [
       "<Figure size 432x288 with 1 Axes>"
      ]
     },
     "metadata": {
      "needs_background": "light"
     },
     "output_type": "display_data"
    }
   ],
   "source": [
    "#Check overfit in the df test\n",
    "y_pred_test = pipe.predict(test_x)\n",
    "metricas_modelos(test_y, y_pred_test)"
   ]
  },
  {
   "cell_type": "markdown",
   "metadata": {},
   "source": [
    "### Selection of the best features"
   ]
  },
  {
   "cell_type": "markdown",
   "metadata": {},
   "source": [
    "In order to generalize the model and improve processing times we can introduce as a transformer within the Pipeline, a selector of the **best features** `SelectKBest` to check if we get similar yields."
   ]
  },
  {
   "cell_type": "code",
   "execution_count": 133,
   "metadata": {},
   "outputs": [
    {
     "data": {
      "text/plain": [
       "(77759, 130)"
      ]
     },
     "execution_count": 133,
     "metadata": {},
     "output_type": "execute_result"
    }
   ],
   "source": [
    "X.shape"
   ]
  },
  {
   "cell_type": "code",
   "execution_count": 134,
   "metadata": {},
   "outputs": [
    {
     "data": {
      "text/plain": [
       "(77759, 50)"
      ]
     },
     "execution_count": 134,
     "metadata": {},
     "output_type": "execute_result"
    }
   ],
   "source": [
    "#Selection of the 50 most predictive features \n",
    "X_new = SelectKBest(f_classif, k=50).fit_transform(X, y)\n",
    "X_new.shape"
   ]
  },
  {
   "cell_type": "code",
   "execution_count": 140,
   "metadata": {},
   "outputs": [],
   "source": [
    "#Repeat for feature selection. For that you have to separate SelectKBest from fit_transform\n",
    "var_sk = SelectKBest(f_classif, k = 50)\n",
    "var_sk.fit_transform(X, y)\n",
    "#var_sk.get_support()\n",
    "\n",
    "k_selection = X.loc[:, var_sk.get_support()]"
   ]
  },
  {
   "cell_type": "code",
   "execution_count": 145,
   "metadata": {},
   "outputs": [
    {
     "data": {
      "text/plain": [
       "Index(['feature_0', 'feature_1', 'feature_2', 'feature_3', 'feature_4',\n",
       "       'feature_5', 'feature_6', 'feature_7', 'feature_8', 'feature_9',\n",
       "       'feature_10', 'feature_11', 'feature_13', 'feature_15', 'feature_17',\n",
       "       'feature_18', 'feature_19', 'feature_21', 'feature_22', 'feature_23',\n",
       "       'feature_24', 'feature_25', 'feature_26', 'feature_27', 'feature_28',\n",
       "       'feature_29', 'feature_30', 'feature_31', 'feature_32', 'feature_33',\n",
       "       'feature_34', 'feature_35', 'feature_36', 'feature_37', 'feature_38',\n",
       "       'feature_39', 'feature_40', 'feature_53', 'feature_55', 'feature_57',\n",
       "       'feature_58', 'feature_59', 'feature_69', 'feature_70', 'feature_71',\n",
       "       'feature_79', 'feature_103', 'feature_122', 'feature_126',\n",
       "       'feature_128'],\n",
       "      dtype='object')"
      ]
     },
     "execution_count": 145,
     "metadata": {},
     "output_type": "execute_result"
    }
   ],
   "source": [
    "k_selection.columns"
   ]
  },
  {
   "cell_type": "markdown",
   "metadata": {},
   "source": [
    "Fit model with the selected features"
   ]
  },
  {
   "cell_type": "code",
   "execution_count": 151,
   "metadata": {},
   "outputs": [],
   "source": [
    "select_features = list(k_selection.columns)\n",
    "t = [('num', SimpleImputer(strategy='median'), select_features), ('scaler', StandardScaler(), select_features)]\n",
    "transformer = ColumnTransformer(transformers=t)"
   ]
  },
  {
   "cell_type": "code",
   "execution_count": 152,
   "metadata": {},
   "outputs": [
    {
     "name": "stdout",
     "output_type": "stream",
     "text": [
      "El rendimiento el modelo es: 1.00000\n",
      "Wall time: 3min 58s\n"
     ]
    }
   ],
   "source": [
    "%%time\n",
    "pipe = Pipeline(steps=[('transformer', transformer),\n",
    "                       ('model', model_et)])\n",
    "\n",
    "pipe.fit(X, y)\n",
    "\n",
    "pipe.score(test_x, test_y)\n",
    "print(u'El rendimiento el modelo es: %0.5f' % pipe.score(X, y))"
   ]
  },
  {
   "cell_type": "code",
   "execution_count": 153,
   "metadata": {},
   "outputs": [
    {
     "name": "stdout",
     "output_type": "stream",
     "text": [
      "La matriz de confusión es \n",
      "[[26212     0]\n",
      " [    0 28219]]\n",
      "Precisión: 1.0\n",
      "Exactitud: 1.0\n",
      "Exhaustividad: 1.0\n",
      "F1: 1.0\n",
      "AUC: 1.0\n"
     ]
    },
    {
     "data": {
      "image/png": "[encoded data removed]",
      "text/plain": [
       "<Figure size 432x288 with 1 Axes>"
      ]
     },
     "metadata": {
      "needs_background": "light"
     },
     "output_type": "display_data"
    }
   ],
   "source": [
    "#Test with train and test set to see if there is overfit in model performance\n",
    "y_pred = pipe.predict(train_x)\n",
    "\n",
    "metricas_modelos(train_y, y_pred)"
   ]
  },
  {
   "cell_type": "code",
   "execution_count": 154,
   "metadata": {},
   "outputs": [
    {
     "name": "stdout",
     "output_type": "stream",
     "text": [
      "La matriz de confusión es \n",
      "[[11110     0]\n",
      " [    0 12218]]\n",
      "Precisión: 1.0\n",
      "Exactitud: 1.0\n",
      "Exhaustividad: 1.0\n",
      "F1: 1.0\n",
      "AUC: 1.0\n"
     ]
    },
    {
     "data": {
      "image/png": "[encoded data removed]",
      "text/plain": [
       "<Figure size 432x288 with 1 Axes>"
      ]
     },
     "metadata": {
      "needs_background": "light"
     },
     "output_type": "display_data"
    }
   ],
   "source": [
    "#We see if there is overfit in the df test\n",
    "y_pred_test = pipe.predict(test_x)\n",
    "metricas_modelos(test_y, y_pred_test)"
   ]
  },
  {
   "cell_type": "markdown",
   "metadata": {},
   "source": [
    "### Feature selection with PCA (principal component analysis)\n",
    "Reference: https://towardsdatascience.com/pca-using-python-scikit-learn-e653f8989e60"
   ]
  },
  {
   "cell_type": "code",
   "execution_count": 181,
   "metadata": {},
   "outputs": [
    {
     "name": "stdout",
     "output_type": "stream",
     "text": [
      "Nº de componentes reducidas para explicar el 90% de la varianza: 16\n"
     ]
    }
   ],
   "source": [
    "from sklearn.decomposition import PCA, NMF\n",
    "\n",
    "#Repeat for feature selection. For that you have to separate SelectKBest from fit_transform\n",
    "pca_sk = PCA(.90) #Divide into components that explain at least 90% of the variance (information)\n",
    "pca_sk.fit_transform(X, y)\n",
    "#var_sk.get_support()\n",
    "\n",
    "#k_selection = X.loc[:, pca_sk.get_support()]\n",
    "#k_selection.columns\n",
    "pca_sk.explained_variance_ratio_\n",
    "#To explain 90% of the variance is reduced from 130 characteristics to 16 components\n",
    "print('Nº de componentes reducidas para explicar el 90% de la varianza:', len(pca_sk.explained_variance_ratio_))\n",
    "print('% de reducción', )"
   ]
  },
  {
   "cell_type": "code",
   "execution_count": 182,
   "metadata": {},
   "outputs": [
    {
     "data": {
      "text/plain": [
       "dict_keys(['copy', 'iterated_power', 'n_components', 'random_state', 'svd_solver', 'tol', 'whiten'])"
      ]
     },
     "execution_count": 182,
     "metadata": {},
     "output_type": "execute_result"
    }
   ],
   "source": [
    "pca = PCA()\n",
    "pca.get_params().keys()"
   ]
  },
  {
   "cell_type": "code",
   "execution_count": 183,
   "metadata": {},
   "outputs": [
    {
     "data": {
      "text/plain": [
       "dict_keys(['bootstrap', 'ccp_alpha', 'class_weight', 'criterion', 'max_depth', 'max_features', 'max_leaf_nodes', 'max_samples', 'min_impurity_decrease', 'min_impurity_split', 'min_samples_leaf', 'min_samples_split', 'min_weight_fraction_leaf', 'n_estimators', 'n_jobs', 'oob_score', 'random_state', 'verbose', 'warm_start'])"
      ]
     },
     "execution_count": 183,
     "metadata": {},
     "output_type": "execute_result"
    }
   ],
   "source": [
    "et = ExtraTreesClassifier()\n",
    "et.get_params().keys()"
   ]
  },
  {
   "cell_type": "code",
   "execution_count": 185,
   "metadata": {},
   "outputs": [
    {
     "name": "stdout",
     "output_type": "stream",
     "text": [
      "Best parameter (CV score=0.519):\n",
      "{'pca__n_components': 12}\n",
      "Wall time: 1min 14s\n"
     ]
    }
   ],
   "source": [
    "%%time\n",
    "\n",
    "pca= PCA()\n",
    "et = ExtraTreesClassifier()\n",
    "\n",
    "pipe_pca = Pipeline(steps=[\n",
    "    ('imputer', SimpleImputer(strategy='median')),\n",
    "    ('scaler', StandardScaler()),\n",
    "    ('pca', pca),\n",
    "    ('model', et)])\n",
    "\n",
    "# Parameters of pipelines can be set using ‘__’ separated parameter names:\n",
    "param_grid = {\n",
    "    'pca__n_components': range(4,16,4),\n",
    "}\n",
    "\n",
    "search = GridSearchCV(pipe_pca, param_grid=param_grid, n_jobs=-1)\n",
    "search.fit(X, y)\n",
    "print(\"Best parameter (CV score=%0.3f):\" % search.best_score_)\n",
    "print(search.best_params_)"
   ]
  },
  {
   "cell_type": "code",
   "execution_count": 210,
   "metadata": {},
   "outputs": [
    {
     "name": "stdout",
     "output_type": "stream",
     "text": [
      "Best parameter (CV score=0.578):\n",
      "{'model__max_depth': 50}\n",
      "Wall time: 7min 20s\n"
     ]
    }
   ],
   "source": [
    "%%time\n",
    "\n",
    "pca= PCA(n_components=12)\n",
    "et = ExtraTreesClassifier(criterion='entropy', random_state=0, n_estimators=100)\n",
    "\n",
    "cv2 = RepeatedStratifiedKFold(n_splits=5, n_repeats=3, random_state=1)\n",
    "\n",
    "pipe_pca = Pipeline(steps=[\n",
    "    ('imputer', SimpleImputer(strategy='median')),\n",
    "    ('scaler', StandardScaler()),\n",
    "    ('pca', pca),\n",
    "    ('model', et)])\n",
    "\n",
    "# Parameters of pipelines can be set using name +‘__’+ parameter names:\n",
    "param_grid = {\n",
    "    #'pca__n_components': range(4,16,4),\n",
    "    #'et__criterion': ['entropy'],#['gini', 'entropy'], #grid.best_params_ = {'criterion': 'entropy'}\n",
    "    #'n_estimators': [50, 100],#range(25,125,25),#grid.best_params_ = {'n_estimators': 100}\n",
    "    'model__max_depth': [1, 5, 25, 50], #range(1,100,25),#grid.best_params_ = {'max_depth': 100}\n",
    "     #'max_features': [100],#range(50,150,50),#grid.best_params_ = {'n_estimators': 100}\n",
    "     #'min_samples_leaf': range(1,50,5),#grid.best_params_ = {'min_samples_leaf': 1}\n",
    "     #'min_samples_split': range(1,50,5),\n",
    "    #'et__random_state': [0]\n",
    "}\n",
    "\n",
    "et_pca = GridSearchCV(pipe_pca, param_grid=param_grid, n_jobs=-1, cv=cv2)\n",
    "et_pca.fit(X, y)\n",
    "print(\"Best parameter (CV score=%0.3f):\" % et_pca.best_score_)\n",
    "print(et_pca.best_params_)"
   ]
  },
  {
   "cell_type": "markdown",
   "metadata": {},
   "source": [
    "Reduced processing time from 3min 58s with the `BestKselection` method with 50 features to 1min 14s with the `PCA` method with 12 components."
   ]
  },
  {
   "cell_type": "code",
   "execution_count": 192,
   "metadata": {},
   "outputs": [
    {
     "data": {
      "text/plain": [
       "dict_keys(['bootstrap', 'ccp_alpha', 'class_weight', 'criterion', 'max_depth', 'max_features', 'max_leaf_nodes', 'max_samples', 'min_impurity_decrease', 'min_impurity_split', 'min_samples_leaf', 'min_samples_split', 'min_weight_fraction_leaf', 'n_estimators', 'n_jobs', 'oob_score', 'random_state', 'verbose', 'warm_start'])"
      ]
     },
     "execution_count": 192,
     "metadata": {},
     "output_type": "execute_result"
    }
   ],
   "source": [
    "#To get the reference parameters of the different methods\n",
    "grid_red.get_params().keys()\n",
    "search.get_params().keys()\n",
    "pipe_pca.get_params().keys()\n",
    "ExtraTreesClassifier().get_params().keys()\n",
    "#etc"
   ]
  },
  {
   "cell_type": "code",
   "execution_count": 203,
   "metadata": {},
   "outputs": [
    {
     "name": "stdout",
     "output_type": "stream",
     "text": [
      "La matriz de confusión es \n",
      "[[22547  3665]\n",
      " [  278 27941]]\n",
      "Precisión: 0.9275596626922158\n",
      "Exactitud: 0.8840410048724926\n",
      "Exhaustividad: 0.9901484815195436\n",
      "F1: 0.9340910990388633\n",
      "AUC: 0.9251635128488913\n"
     ]
    },
    {
     "data": {
      "image/png": "[encoded data removed]",
      "text/plain": [
       "<Figure size 432x288 with 1 Axes>"
      ]
     },
     "metadata": {
      "needs_background": "light"
     },
     "output_type": "display_data"
    }
   ],
   "source": [
    "#Test with train and test set to see if there is overfit in model performance\n",
    "y_pred = et_pca.predict(train_x)\n",
    "\n",
    "metricas_modelos(train_y, y_pred)"
   ]
  },
  {
   "cell_type": "code",
   "execution_count": 204,
   "metadata": {},
   "outputs": [
    {
     "name": "stdout",
     "output_type": "stream",
     "text": [
      "La matriz de confusión es \n",
      "[[ 9548  1562]\n",
      " [  143 12075]]\n",
      "Precisión: 0.926911865569273\n",
      "Exactitud: 0.8854586785949989\n",
      "Exhaustividad: 0.9882959567850712\n",
      "F1: 0.9340553084509765\n",
      "AUC: 0.9238509486895653\n"
     ]
    },
    {
     "data": {
      "image/png": "[encoded data removed]",
      "text/plain": [
       "<Figure size 432x288 with 1 Axes>"
      ]
     },
     "metadata": {
      "needs_background": "light"
     },
     "output_type": "display_data"
    }
   ],
   "source": [
    "#We see if there is overfit in the df test\n",
    "y_pred_test = et_pca.predict(test_x)\n",
    "metricas_modelos(test_y, y_pred_test)"
   ]
  }
 ],
 "metadata": {
  "kernelspec": {
   "display_name": "Pycaret_py36",
   "language": "python",
   "name": "pycaret"
  },
  "language_info": {
   "codemirror_mode": {
    "name": "ipython",
    "version": 3
   },
   "file_extension": ".py",
   "mimetype": "text/x-python",
   "name": "python",
   "nbconvert_exporter": "python",
   "pygments_lexer": "ipython3",
   "version": "3.6.11"
  }
 },
 "nbformat": 4,
 "nbformat_minor": 4
}
