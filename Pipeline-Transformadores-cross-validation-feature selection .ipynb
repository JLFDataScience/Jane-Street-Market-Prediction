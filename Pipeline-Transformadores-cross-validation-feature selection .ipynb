{
 "cells": [
  {
   "cell_type": "markdown",
   "metadata": {},
   "source": [
    "## Pipeline | Transformadores | cross-validation | feature selection "
   ]
  },
  {
   "cell_type": "markdown",
   "metadata": {},
   "source": [
    "### Load Libraries 📘"
   ]
  },
  {
   "cell_type": "code",
   "execution_count": 1,
   "metadata": {},
   "outputs": [],
   "source": [
    "from numpy import mean\n",
    "from numpy import std\n",
    "from sklearn.model_selection import cross_val_score, cross_val_predict\n",
    "from sklearn.model_selection import RepeatedStratifiedKFold\n",
    "from sklearn.ensemble import ExtraTreesClassifier\n",
    "from sklearn.model_selection import train_test_split\n",
    "from sklearn.pipeline import Pipeline\n",
    "from sklearn.model_selection import GridSearchCV\n",
    "from sklearn.impute import SimpleImputer\n",
    "from sklearn.preprocessing import StandardScaler\n",
    "from sklearn.compose import ColumnTransformer\n",
    "from sklearn.feature_selection import SelectKBest\n",
    "from sklearn.feature_selection import f_regression"
   ]
  },
  {
   "cell_type": "code",
   "execution_count": 15,
   "metadata": {},
   "outputs": [
    {
     "name": "stdout",
     "output_type": "stream",
     "text": [
      "Using matplotlib backend: TkAgg\n",
      "Populating the interactive namespace from numpy and matplotlib\n"
     ]
    }
   ],
   "source": [
    "%pylab\n",
    "%matplotlib inline"
   ]
  },
  {
   "cell_type": "code",
   "execution_count": 2,
   "metadata": {},
   "outputs": [],
   "source": [
    "import warnings\n",
    "#warnings.simplefilter(\"ignore\")\n",
    "warnings.filterwarnings(\"ignore\")"
   ]
  },
  {
   "cell_type": "markdown",
   "metadata": {},
   "source": [
    "A modo de muestra, extraemos una pequeña porción del dataset de la competición de Kaggle: https://www.kaggle.com/c/jane-street-market-prediction"
   ]
  },
  {
   "cell_type": "code",
   "execution_count": 5,
   "metadata": {},
   "outputs": [
    {
     "name": "stdout",
     "output_type": "stream",
     "text": [
      "Wall time: 2.33 s\n"
     ]
    }
   ],
   "source": [
    "%%time\n",
    "import pandas as pd\n",
    "import numpy as np\n",
    "import zipfile\n",
    "#Load data\n",
    "#Extract the first 10,000 rows\n",
    "zf = zipfile.ZipFile('data/jane-street-market-prediction.zip') \n",
    "df_train = pd.read_csv(zf.open('train.csv'), nrows=10000)"
   ]
  },
  {
   "cell_type": "markdown",
   "metadata": {},
   "source": [
    "### Preprocesamiento de los datos  \n",
    "Según las necesidades de los datos que nos describe en la competición de Kaggle."
   ]
  },
  {
   "cell_type": "code",
   "execution_count": 6,
   "metadata": {},
   "outputs": [],
   "source": [
    "##PREPROCESING##\n",
    "\n",
    "# Drop rows with 'weight'=0 \n",
    "df_train = df_train[df_train['weight']!=0]\n",
    "#df_train = df_train.loc[df_train.weight != 0]\n",
    "\n",
    "# Create 'action' column (target)\n",
    "# The objetive is maximise the utility function pi=∑j(weightij∗respij∗actionij) where positive values of resp will increase pi\n",
    "#df_train['action'] = df_train['resp'].apply(lambda x:x>0).astype(int)\n",
    "df_train['action'] = (df_train['resp'] > 0).astype('int')\n",
    "\n",
    "#Select the model´s variables (features alone)\n",
    "features = [c for c in df_train.columns if 'feature' in c]\n",
    "#df_train = pd.concat([df_train[features],df_train.action], axis=1)\n",
    "\n",
    "X = df_train[features]\n",
    "y = df_train['action']"
   ]
  },
  {
   "cell_type": "code",
   "execution_count": 7,
   "metadata": {},
   "outputs": [],
   "source": [
    "# Train and test data\n",
    "train_x, test_x, train_y, test_y = train_test_split(X, y, test_size=0.3)"
   ]
  },
  {
   "cell_type": "markdown",
   "metadata": {},
   "source": [
    "#### Eliminamos valores nulos e infinitos"
   ]
  },
  {
   "cell_type": "code",
   "execution_count": 8,
   "metadata": {},
   "outputs": [],
   "source": [
    "#Check that we have removed all other null and infinite values\n",
    "train_x.replace([np.inf, -np.inf], np.nan, inplace=True)\n",
    "X.replace([np.inf, -np.inf], np.nan, inplace=True)"
   ]
  },
  {
   "cell_type": "code",
   "execution_count": 9,
   "metadata": {},
   "outputs": [],
   "source": [
    "#First estrategy\n",
    "#Fill nan values with 0\n",
    "#train_x.fillna(0,inplace=True)\n",
    "#test_x.fillna(0,inplace=True)\n",
    "\n",
    "#Second estrategy\n",
    "#Fill nan values with median\n",
    "train_median = train_x.median()\n",
    "train_x = train_x.fillna(train_median)\n",
    "test_x = test_x.fillna(train_median)\n",
    "X = X.fillna(train_median)\n",
    "\n",
    "#Third estrategy\n",
    "#Lineal Interpolation\n",
    "#train_x.interpolate(method='linear', inplace=True)"
   ]
  },
  {
   "cell_type": "code",
   "execution_count": 10,
   "metadata": {},
   "outputs": [
    {
     "data": {
      "text/plain": [
       "0"
      ]
     },
     "execution_count": 10,
     "metadata": {},
     "output_type": "execute_result"
    }
   ],
   "source": [
    "#Check null values\n",
    "train_x.isnull().sum().sum()"
   ]
  },
  {
   "cell_type": "code",
   "execution_count": 11,
   "metadata": {},
   "outputs": [
    {
     "data": {
      "text/plain": [
       "array([dtype('int64'), dtype('float64')], dtype=object)"
      ]
     },
     "execution_count": 11,
     "metadata": {},
     "output_type": "execute_result"
    }
   ],
   "source": [
    "#We make sure the values are numeric\n",
    "train_x.dtypes.unique()"
   ]
  },
  {
   "cell_type": "markdown",
   "metadata": {},
   "source": [
    "### Modelo Básico  \n",
    "\n",
    "Hemos selecionado ExtraTreesClasifier como modelo con mejor rendimiento en una aproximación al problema que hicimos previamente con PyCaret (AutoML)  \n",
    "\n",
    "Ejecutamos antes una función para evaluar y comparar los modelos (metricas_modelos())"
   ]
  },
  {
   "cell_type": "code",
   "execution_count": 13,
   "metadata": {},
   "outputs": [],
   "source": [
    "from sklearn.metrics import accuracy_score, auc, confusion_matrix, f1_score, precision_score, recall_score, roc_curve\n",
    "\n",
    "def metricas_modelos(y_true, y_pred):\n",
    "    from sklearn.metrics import accuracy_score, auc, confusion_matrix, f1_score, precision_score, recall_score, roc_curve\n",
    "\n",
    "    # Obtención de matriz de confusión\n",
    "    confusion_matrix = confusion_matrix(y_true, y_pred)\n",
    "\n",
    "    print(\"La matriz de confusión es \")\n",
    "    print(confusion_matrix)\n",
    "\n",
    "    print('Precisión:', accuracy_score(y_true, y_pred))\n",
    "    print('Exactitud:', precision_score(y_true, y_pred))\n",
    "    print('Exhaustividad:', recall_score(y_true, y_pred))\n",
    "    print('F1:', f1_score(y_true, y_pred))\n",
    "\n",
    "    false_positive_rate, recall, thresholds = roc_curve(y_true, y_pred)\n",
    "    roc_auc = auc(false_positive_rate, recall)\n",
    "\n",
    "    print('AUC:', auc(false_positive_rate, recall))\n",
    "\n",
    "    plot(false_positive_rate, recall, 'b')\n",
    "    plot([0, 1], [0, 1], 'r--')\n",
    "    title('AUC = %0.2f' % roc_auc)"
   ]
  },
  {
   "cell_type": "code",
   "execution_count": 17,
   "metadata": {},
   "outputs": [
    {
     "name": "stdout",
     "output_type": "stream",
     "text": [
      "El rendimiento el modelo es: 1.00000\n",
      "La matriz de confusión es \n",
      "[[2718    0]\n",
      " [   0 2791]]\n",
      "Precisión: 1.0\n",
      "Exactitud: 1.0\n",
      "Exhaustividad: 1.0\n",
      "F1: 1.0\n",
      "AUC: 1.0\n"
     ]
    },
    {
     "data": {
      "image/png": "[encoded data removed]",
      "text/plain": [
       "<Figure size 432x288 with 1 Axes>"
      ]
     },
     "metadata": {
      "needs_background": "light"
     },
     "output_type": "display_data"
    }
   ],
   "source": [
    "from sklearn.ensemble import ExtraTreesClassifier\n",
    "\n",
    "etc = ExtraTreesClassifier()\n",
    "etc.fit(train_x, train_y)\n",
    "print(u'El rendimiento el modelo es: %0.5f' % etc.score(train_x, train_y))\n",
    "y_pred_train = etc.predict(train_x)\n",
    "metricas_modelos(train_y, y_pred_train)"
   ]
  },
  {
   "cell_type": "markdown",
   "metadata": {},
   "source": [
    "Probamos en test tambien para ver el sobreajuste"
   ]
  },
  {
   "cell_type": "code",
   "execution_count": 16,
   "metadata": {},
   "outputs": [
    {
     "name": "stdout",
     "output_type": "stream",
     "text": [
      "La matriz de confusión es \n",
      "[[906 291]\n",
      " [317 847]]\n",
      "Precisión: 0.7424819991529014\n",
      "Exactitud: 0.7442882249560633\n",
      "Exhaustividad: 0.7276632302405498\n",
      "F1: 0.735881841876629\n",
      "AUC: 0.7422777304084955\n"
     ]
    },
    {
     "data": {
      "image/png": "[encoded data removed]",
      "text/plain": [
       "<Figure size 432x288 with 1 Axes>"
      ]
     },
     "metadata": {
      "needs_background": "light"
     },
     "output_type": "display_data"
    }
   ],
   "source": [
    "#Check Overfitting in tets df\n",
    "y_pred_test = etc.predict(test_x)\n",
    "metricas_modelos(test_y, y_pred_test)"
   ]
  },
  {
   "cell_type": "markdown",
   "metadata": {},
   "source": [
    "Se puede apreciar un **sobrajuste excesivo** en el modelo generado.  \n",
    "Para intentar mejorarlo y automatizar el proceso para hacer pruebas, vamos a:\n",
    "* Automatizar el proceso con Pipeline y tranformadores\n",
    "* Selección de características y reducción de dimensionalidad (Ahora 130 variables). Para generalizar el modelo y disminuir el tiempo de procesado, ya que en este conjunto de datos son más de 2 millones de filas y entrenar con todo el conjunto de datos costaría mucho tiempo y recursos de memoria.\n",
    "* Validación cruzada para selecionar hiperparámetros y disminuir el sobreajuste\n",
    "* Canalizar todos estos procesos en una sola operación\n"
   ]
  },
  {
   "cell_type": "markdown",
   "metadata": {},
   "source": [
    "## Automatización del proceso | Pipeline  \n",
    "Sklearn dispone de unos métodos para canalizar en un sólo paso todos los subprocesos que se pueden desarrollar en un modelaje y que ayudan a llevarlo a producción o a mejorarlo. Desde el preprocesamiento de los datos (que hemos hecho previamente) y las columnas en las que se aplicará (Transformadores), normalización, selección de características, reducción de la dimensionalidad hasta finalmente el modelo a entrenar (estimador). "
   ]
  },
  {
   "cell_type": "markdown",
   "metadata": {},
   "source": [
    "### Tranformadores  \n",
    "\n",
    "Es posible hacer el preprocesamiento de los datos con estos transformadores estandar que vienen por defecto en SKlearn (llamados estimators) o también hacerlos de forma más personalizada. De esta forma el preprocesamiento formará parte y se integrará en todo el modelo a entrenar.  \n",
    "\n",
    "Todas las transformaciones de conjunto de datos en Sklearn: https://scikit-learn.org/stable/data_transforms.html\n",
    "\n",
    "\n",
    "#### Elegir variables o columnas para transformar\n",
    "El método de transformación debe comenzar eligiendo las características/columnas relevantes para la transformación (por ejemplo, características numéricas, características categóricas o columnas con un nombre común). Lo más habitual es que se agrupen por columnas numéricas por un lado y categóricas por otro."
   ]
  },
  {
   "cell_type": "code",
   "execution_count": 22,
   "metadata": {},
   "outputs": [],
   "source": [
    "#If you want to select a particular type of Column o specific Columns\n",
    "numeric_features = X.select_dtypes(include=['int64', 'float64']).columns\n",
    "categorical_features = X.select_dtypes(include=['object']).columns\n",
    "select_specific_columns = [c for c in X.columns if 'feature' in c]"
   ]
  },
  {
   "cell_type": "markdown",
   "metadata": {},
   "source": [
    "#### Imputación de valores perdidos  \n",
    "\n",
    "1. Imputación Univariante  \n",
    "Se utiliza el estimador `SimpleImputer` que solamente sustituyen el valor perdido por otro valor fijo. Ya sea la media o la mediana de toda esa columna, por ejemplo:  \n",
    "`SimpleImputer(missing_values=np.nan, strategy='mean' o 'median')` # Para rellenar con la media.  \n",
    "`SimpleImputer(strategy=\"constant\" fill_value= 0)` # Para rellenar con 0. \n",
    "\n",
    "2. Imputación Multivariante  \n",
    "Se utiliza el estimador `IterativeImputer` que modela los valores perdidos de forma diferente en función del resto de los datos al rededor del dato perdido. Una especie de regresión que varia según evolucionan los datos:   \n",
    "`IterativeImputer(max_iter=10, random_state=0)`  \n",
    "\n",
    "3. Otros estimadores de imputación\n",
    "`KNNImputer(n_neighbors=2, weights=\"uniform\")` # Se rellenan valores en función de los vecinos más cercanos.  \n",
    "`MissingIndicator(missing_values=np.nan)` #Nos permite guardar en otra columna dónde estaban los valores faltantes por si es necesaria esa información.   \n",
    "\n",
    "Más información en: https://scikit-learn.org/stable/modules/impute.html"
   ]
  },
  {
   "cell_type": "markdown",
   "metadata": {},
   "source": [
    "#### Normalizar datos  \n",
    "En muchas de las ocasiones es necesario normalizar los datos o estandarizarlos a una escala común como proceso previo al resto de operaciones. En nuestro caso como vamos a realizar una reducción de la dimensionalidad del conjunto de datos es necesario este paso previo en las características numéricas.  \n",
    "- `StandardScaler()` o `Normalize()` #Eliminando la media y escalando a la varianza 1  \n",
    "- `MinMaxScaler()` o `MaxAbsScaler()` #Escalar características a un rango determinado  \n",
    "- `RobustScaler()`# Cuando se tienen muchos datos atípicos  \n",
    "\n",
    "Más info: https://scikit-learn.org/stable/modules/preprocessing.html#normalization\n"
   ]
  },
  {
   "cell_type": "markdown",
   "metadata": {},
   "source": [
    "#### Variables categóricas  \n",
    "`OneHotEncoder()` #Genera columnas dummies binaria 1/0 con las categorias de esa variable  \n",
    "`CountVectorizer()` # Vectoriza un texto que este como dato en una columna\n"
   ]
  },
  {
   "cell_type": "markdown",
   "metadata": {},
   "source": [
    "**En nuestro caso se imputa la mediana a los valores faltantes y se normalizan los datos numéricos**"
   ]
  },
  {
   "cell_type": "code",
   "execution_count": 24,
   "metadata": {},
   "outputs": [],
   "source": [
    "from sklearn.impute import SimpleImputer\n",
    "from sklearn.preprocessing import StandardScaler\n",
    "#transformations that we apply to numeric variables\n",
    "numeric_transformer = Pipeline(steps=[\n",
    "    ('imputer', SimpleImputer(strategy='median')),\n",
    "    ('scaler', StandardScaler())])\n",
    "\n",
    "## this imputer imputes with an arbitrary value in categorical features\n",
    "#categorical_transformer = Pipeline(steps=[('imputer',\n",
    "#            SimpleImputer(strategy='constant', fill_value='Missing'))]) #"
   ]
  },
  {
   "cell_type": "markdown",
   "metadata": {},
   "source": [
    "#### ColumnTransformer  \n",
    "Con este objeto `ColumnTransformer()` uniremos los diferentes estimadores/transformadores que se realizaran en diferentes columnas. De tal forma que hace el procesado en paralelo y luego lo une para pasar al siguiente paso de la canalización.  \n",
    "\n",
    "El formato será: `ColumnTransformer(transformers=[('nombre elegido', trasformador, ['listado con las columnas a aplicar'])]`  \n",
    "En nuestro caso no hará falta unir diferentes tipos de columnas al ser todas numéricas"
   ]
  },
  {
   "cell_type": "code",
   "execution_count": 25,
   "metadata": {},
   "outputs": [],
   "source": [
    "preprocessor = ColumnTransformer(\n",
    "    transformers=[('num', numeric_transformer, select_specific_columns)])\n",
    "        #('num', numeric_transformer, numeric_features),\n",
    "        #('cat', categorical_transformer, categorical_features)]) #Podriamos añadir también estimador categorico\n",
    "                                                                  #We could also add categoric estimator"
   ]
  },
  {
   "cell_type": "markdown",
   "metadata": {},
   "source": [
    "Se une todo el Preproceso con el modelo en una sola canalización."
   ]
  },
  {
   "cell_type": "code",
   "execution_count": 27,
   "metadata": {},
   "outputs": [
    {
     "name": "stdout",
     "output_type": "stream",
     "text": [
      "El rendimiento el modelo es: 1.00000\n",
      "Wall time: 2.27 s\n"
     ]
    }
   ],
   "source": [
    "%%time\n",
    "\n",
    "pipe = Pipeline(steps=[('preprocessor', preprocessor),\n",
    "                      ('model', etc)])\n",
    "\n",
    "#pipe = Pipeline([('model', model)])\n",
    "\n",
    "pipe.fit(X, y)\n",
    "\n",
    "#pipe.score(train_x, train_y)\n",
    "print(u'El rendimiento el modelo es: %0.5f' % pipe.score(train_x, train_y))"
   ]
  },
  {
   "cell_type": "code",
   "execution_count": 28,
   "metadata": {},
   "outputs": [
    {
     "name": "stdout",
     "output_type": "stream",
     "text": [
      "El rendimiento el modelo es: 1.00000\n"
     ]
    }
   ],
   "source": [
    "#Vemos el sobreajuste\n",
    "#Check overfit in the df test\n",
    "#pipe.score(test_x, test_y)\n",
    "print(u'El rendimiento el modelo es: %0.5f' % pipe.score(test_x, test_y))"
   ]
  },
  {
   "cell_type": "markdown",
   "metadata": {},
   "source": [
    "Por ahora conseguimos menos sobreajuste que aplicando el modelo directamente.  \n",
    "Vamos a seguir mejorando el proceso."
   ]
  },
  {
   "cell_type": "markdown",
   "metadata": {},
   "source": [
    "### Reducción de dimensionalidad   \n",
    "La reducción de dimensionalidad es el proceso de expresar datos de alta dimensión en un número reducido de dimensiones de modo que cada uno contenga la mayor cantidad de información. La reducción de dimensionalidad se puede utilizar para la visualización de datos de alta dimensión o para acelerar los modelos de aprendizaje automático al eliminar características correlacionadas o de baja información.  \n",
    "\n",
    "- #### No supervisada"
   ]
  },
  {
   "cell_type": "markdown",
   "metadata": {},
   "source": [
    "1. **PCA**: Análisis de Componentes Principales  \n",
    "El método `decomposition.PCA()`, busca una combinación de características (componentes) que capturen bien la variación de las características originales. Es un método popular para reducir la dimensionalidad de los datos dibujando varios vectores ortogonales (perpendiculares) en el espacio de características para representar el número reducido de dimensiones. El número de  variable  representa el número de dimensiones que tendrán los datos reducidos. En el caso de la visualización, por ejemplo, serían dos dimensiones. Este módulo es el más usado para reducir la dimensionalidad.\n",
    "\n",
    "2. Proyecciones aleatorias  \n",
    "El módulo `random_projection`proporciona varias herramientas para la reducción de datos mediante proyecciones aleatorias.  \n",
    "Más info: https://scikit-learn.org/stable/modules/random_projection.html#random-projection\n",
    "\n",
    "3. Aglomeración de características  \n",
    "El módulo `cluster.FeatureAgglomeration`, aplica el agrupamiento jerárquico para agrupar características que se comportan de manera similar.  \n",
    "Más info: https://scikit-learn.org/stable/modules/generated/sklearn.cluster.FeatureAgglomeration.html#sklearn.cluster.FeatureAgglomeration\n",
    "\n",
    "4. Selección de las mejores características  \n",
    "No es un método en sí de reducción de dimensionalidad, pero supone una reducción de caracteristicas al seleccionar las mejores ya sea en número o en porcentaje. Se construye con los constructores `SelectKBest()` y `SelectPercentile()` para seleccionar crear objetos que permitan seleccionar las k mejores características o un porcentaje de las mismas respectivamente para la creación de un modelo. En ambos casos se ha de indicar el criterio a utilizar para ordenarlas. En scikit-learn existen dos métodos que se pueden utilizar según el tipo de problema con el que se esté trabajando: `f_regression` para modelos de regressión y `chi2` para modelos de clasificación.  \n",
    "\n",
    "5. Eliminar características con baja varianza  \n",
    "Eliminar las características que no varían una cantidad suficiente.  \n",
    "Se puede utilizar el constructor `VarianceThreshold` al que se le ha de indicar la varianza mínima que ha de tener una característica, por ejemplo `VarianceThreshold(threshold = 0.25)`.  \n",
    "Tambien se podría usar `Factor de inflación de la varianza (VIF)` pero es una función que es más dificil integrar en Pipeline.\n"
   ]
  },
  {
   "cell_type": "markdown",
   "metadata": {},
   "source": [
    "- #### Supervisada  "
   ]
  },
  {
   "cell_type": "markdown",
   "metadata": {},
   "source": [
    "1. El análisis discriminante lineal  (**LDA**, que no debe confundirse comúnmente con la asignación de Dirichlet latente) es otro método de reducción de dimensionalidad. La principal diferencia entre LDA y PCA es que LDA es un algoritmo supervisado, lo que significa que tiene en cuenta tanto  x  como  y . El PCA solo considera  x , por lo tanto, es un algoritmo no supervisado. PCA intenta mantener la estructura (varianza) de los datos basándose puramente en distancias entre puntos, mientras que LDA prioriza la separación limpia de clases."
   ]
  },
  {
   "cell_type": "markdown",
   "metadata": {},
   "source": [
    "#### SelectkBest"
   ]
  },
  {
   "cell_type": "code",
   "execution_count": 32,
   "metadata": {},
   "outputs": [
    {
     "data": {
      "text/plain": [
       "Index(['feature_3', 'feature_4', 'feature_5', 'feature_6', 'feature_39'], dtype='object')"
      ]
     },
     "execution_count": 32,
     "metadata": {},
     "output_type": "execute_result"
    }
   ],
   "source": [
    "#Uso de SelectKbest\n",
    "\n",
    "from sklearn.feature_selection import SelectKBest\n",
    "from sklearn.feature_selection import f_classif, f_regression, chi2\n",
    "#For that you have to separate SelectKBest from fit_transform\n",
    "var_sk = SelectKBest(f_classif, k = 5) #Pasariamos de tener 130 a las 5 más predictivas\n",
    "var_sk.fit_transform(X, y)\n",
    "#var_sk.get_support()\n",
    "\n",
    "k_selection = X.loc[:, var_sk.get_support()]\n",
    "k_selection.columns"
   ]
  },
  {
   "cell_type": "code",
   "execution_count": 35,
   "metadata": {},
   "outputs": [
    {
     "name": "stdout",
     "output_type": "stream",
     "text": [
      "El rendimiento el modelo es: 0.99492\n",
      "Wall time: 1.11 s\n"
     ]
    }
   ],
   "source": [
    "%%time\n",
    "\n",
    "pipe = Pipeline(steps=[('preprocessor', preprocessor),\n",
    "                       ('Best', SelectKBest(f_regression, k = 5)),\n",
    "                       ('model', etc)])\n",
    "\n",
    "#pipe = Pipeline([('model', model)])\n",
    "\n",
    "pipe.fit(X, y)\n",
    "#pipe.score(train_x, train_y)\n",
    "print(u'El rendimiento el modelo es: %0.5f' % pipe.score(train_x, train_y))"
   ]
  },
  {
   "cell_type": "code",
   "execution_count": 36,
   "metadata": {},
   "outputs": [
    {
     "name": "stdout",
     "output_type": "stream",
     "text": [
      "El rendimiento el modelo es: 0.99492\n"
     ]
    }
   ],
   "source": [
    "#Vemos el sobreajuste\n",
    "#Check overfit in the df test\n",
    "#pipe.score(test_x, test_y)\n",
    "print(u'El rendimiento el modelo es: %0.5f' % pipe.score(test_x, test_y))"
   ]
  },
  {
   "cell_type": "markdown",
   "metadata": {},
   "source": [
    "#### PCA"
   ]
  },
  {
   "cell_type": "code",
   "execution_count": 38,
   "metadata": {},
   "outputs": [
    {
     "name": "stdout",
     "output_type": "stream",
     "text": [
      "Nº de componentes reducidas para explicar el 90% de la varianza: 14\n"
     ]
    }
   ],
   "source": [
    "# Reducción de dimensionalidad con PCA\n",
    "from sklearn.decomposition import PCA, NMF\n",
    "\n",
    "#Repeat for feature selection. For that you have to separate SelectKBest from fit_transform\n",
    "pca_sk = PCA(.90) #Divide into components that explain at least 90% of the variance (information)\n",
    "pca_sk.fit_transform(X, y)\n",
    "#var_sk.get_support()\n",
    "\n",
    "#k_selection = X.loc[:, pca_sk.get_support()]\n",
    "#k_selection.columns\n",
    "pca_sk.explained_variance_ratio_\n",
    "#To explain 90% of the variance is reduced from 130 characteristics to 14 components\n",
    "print('Nº de componentes reducidas para explicar el 90% de la varianza:', len(pca_sk.explained_variance_ratio_))"
   ]
  },
  {
   "cell_type": "code",
   "execution_count": 41,
   "metadata": {},
   "outputs": [
    {
     "data": {
      "text/plain": [
       "dict_keys(['copy', 'iterated_power', 'n_components', 'random_state', 'svd_solver', 'tol', 'whiten'])"
      ]
     },
     "execution_count": 41,
     "metadata": {},
     "output_type": "execute_result"
    }
   ],
   "source": [
    "##Comando para conocer los parámetros que se pueden configurar\n",
    "etc.get_params().keys()\n",
    "pca_sk.get_params().keys()"
   ]
  },
  {
   "cell_type": "code",
   "execution_count": 58,
   "metadata": {},
   "outputs": [
    {
     "name": "stdout",
     "output_type": "stream",
     "text": [
      "El rendimiento el modelo es: 1.00000\n",
      "Wall time: 1.89 s\n"
     ]
    }
   ],
   "source": [
    "%%time\n",
    "\n",
    "pca= PCA(n_components=14)\n",
    "\n",
    "pipe_pca = Pipeline(steps=[('preprocessor', preprocessor),\n",
    "                       ('pca', pca),\n",
    "                       ('model', etc)])\n",
    "pipe_pca.fit(X, y)\n",
    "#pipe.score(train_x, train_y)\n",
    "print(u'El rendimiento el modelo es: %0.5f' % pipe_pca.score(train_x, train_y))"
   ]
  },
  {
   "cell_type": "code",
   "execution_count": 43,
   "metadata": {},
   "outputs": [
    {
     "name": "stdout",
     "output_type": "stream",
     "text": [
      "El rendimiento el modelo es: 1.00000\n"
     ]
    }
   ],
   "source": [
    "#Vemos el sobreajuste\n",
    "#Check overfit in the df test\n",
    "#pipe_pca.score(test_x, test_y)\n",
    "print(u'El rendimiento el modelo es: %0.5f' % pipe_pca.score(test_x, test_y))"
   ]
  },
  {
   "cell_type": "markdown",
   "metadata": {},
   "source": [
    "Cuando observamos sobreajuste o modelos demasiado perfectos, como en el caso que precede, es conveniente realizar una **validación cruzada** para reafirmar los resultados y ver cómo es el rendimiento en este caso."
   ]
  },
  {
   "cell_type": "markdown",
   "metadata": {},
   "source": [
    "#### LDA  \n",
    "Referencia: https://scikit-learn.org/stable/modules/generated/sklearn.decomposition.LatentDirichletAllocation.html"
   ]
  },
  {
   "cell_type": "code",
   "execution_count": null,
   "metadata": {},
   "outputs": [],
   "source": [
    "from sklearn.decomposition import LatentDirichletAllocation\n",
    "lda = LatentDirichletAllocation(n_components = 14, random_state=0)\n",
    "transformed = lda.fit_transform(X, y)"
   ]
  },
  {
   "cell_type": "markdown",
   "metadata": {},
   "source": [
    "### Cross Validation  \n",
    "Nota: En este caso, un error típico es utilizar los conjuntos de datos de entrenamiento separados anteriormente. Dado que la validación cruzada ya realiza la separación de datos en el número especificado de conjuntos y valida con datos que el modelo no ha visto, se deben usar **todos los datos**. En este caso hemos usado todos los datos para el entrenamiento y vemos el rendimiento en train y test.  \n",
    "\n",
    "\n",
    "<img src=\"https://scikit-learn.org/stable/_images/grid_search_cross_validation.png\" width=500>\n",
    "\n",
    "**Cálculo de las métricas de la validación cruzada**:\n",
    "`cross_val_score` y `cross_val_predict`  \n",
    "Cuando el argumento \"cv\" es un número entero, cross_val_score utiliza por defecto la estrategia de KFold  \n",
    "\n",
    "Referencia: https://scikit-learn.org/stable/modules/cross_validation.html"
   ]
  },
  {
   "cell_type": "code",
   "execution_count": 44,
   "metadata": {},
   "outputs": [
    {
     "name": "stdout",
     "output_type": "stream",
     "text": [
      "Accuracy: 0.603 (0.048)\n",
      "Wall time: 11.2 s\n"
     ]
    }
   ],
   "source": [
    "%%time\n",
    "from sklearn.model_selection import cross_val_score, cross_val_predict\n",
    "# evaluate the model using repeated stratified k-fold cross-validation, with three repeats and 10 folds.\n",
    "#cv = RepeatedStratifiedKFold(n_splits=10, n_repeats=3, random_state=1)\n",
    "n_scores = cross_val_score(etc, X, y, scoring='accuracy', cv=5, n_jobs=-1, error_score='raise')\n",
    "# report performance\n",
    "print('Accuracy: %.3f (%.3f)' % (mean(n_scores), std(n_scores)))\n",
    "#print(\"%0.3f accuracy with a standard deviation of %0.2f\" % (n_scores.mean(), n_scores.std()))"
   ]
  },
  {
   "cell_type": "markdown",
   "metadata": {},
   "source": [
    "También se puede usar un iterador de validación cruzada personalizado por ejemplo `RepeatedStratifiedKFold`"
   ]
  },
  {
   "cell_type": "code",
   "execution_count": 45,
   "metadata": {},
   "outputs": [
    {
     "name": "stdout",
     "output_type": "stream",
     "text": [
      "0.758 accuracy with a standard deviation of 0.01\n",
      "Wall time: 23.1 s\n"
     ]
    }
   ],
   "source": [
    "%%time\n",
    "from sklearn.model_selection import RepeatedStratifiedKFold\n",
    "# evaluate the model using repeated stratified k-fold cross-validation, with three repeats and 10 folds.\n",
    "cv = RepeatedStratifiedKFold(n_splits=10, n_repeats=3, random_state=1)\n",
    "n_scores = cross_val_score(etc, X, y, scoring='accuracy', cv=cv, n_jobs=-1, error_score='raise')\n",
    "# report performance\n",
    "#print('Accuracy: %.3f (%.3f)' % (mean(n_scores), std(n_scores)))\n",
    "print(\"%0.3f accuracy with a standard deviation of %0.2f\" % (n_scores.mean(), n_scores.std()))"
   ]
  },
  {
   "cell_type": "markdown",
   "metadata": {},
   "source": [
    "Con este iterador se comprueba una mejora sustancial del rendimiento aunque supone un coste de tiempo computacional, más costoso cuanto mayor sea el dataset.  \n",
    "\n",
    "Podemos también utilizar `cross_val_predict` para predecir las etiquetas aunque no debe utilizarse para modelar sino simplemente para usar las etiquetas y medir el rendimiento respecto a la y_true que dispongamos.  Además no se pueden itroducir en el argumento \"cv\" distinta estrategia de cv personalizada, sino solamente Kfold mediante un número entero. Asique solo servirá para estimar el rendimiento pero no para optimizarlo."
   ]
  },
  {
   "cell_type": "code",
   "execution_count": 50,
   "metadata": {},
   "outputs": [
    {
     "name": "stdout",
     "output_type": "stream",
     "text": [
      "(5509, 130) (2361, 130)\n"
     ]
    }
   ],
   "source": [
    "print(train_x.shape, test_x.shape)"
   ]
  },
  {
   "cell_type": "code",
   "execution_count": 49,
   "metadata": {},
   "outputs": [
    {
     "name": "stdout",
     "output_type": "stream",
     "text": [
      "La matriz de confusión es \n",
      "[[2028  690]\n",
      " [ 738 2053]]\n",
      "Precisión: 0.7407878017789072\n",
      "Exactitud: 0.7484506015311703\n",
      "Exhaustividad: 0.7355786456467216\n",
      "F1: 0.7419588001445608\n",
      "AUC: 0.7408577554944425\n"
     ]
    },
    {
     "data": {
      "image/png": "[encoded data removed]",
      "text/plain": [
       "<Figure size 432x288 with 1 Axes>"
      ]
     },
     "metadata": {
      "needs_background": "light"
     },
     "output_type": "display_data"
    }
   ],
   "source": [
    "#We represent Accuracy Accuracy and AUC over 5509 rows of train df\n",
    "y_pred_cv = cross_val_predict(etc,\n",
    "                         train_x,\n",
    "                         train_y,\n",
    "                         cv = 10)\n",
    "\n",
    "metricas_modelos(train_y, y_pred_cv)"
   ]
  },
  {
   "cell_type": "code",
   "execution_count": 51,
   "metadata": {},
   "outputs": [
    {
     "name": "stdout",
     "output_type": "stream",
     "text": [
      "La matriz de confusión es \n",
      "[[869 328]\n",
      " [379 785]]\n",
      "Precisión: 0.7005506141465481\n",
      "Exactitud: 0.7053009883198562\n",
      "Exhaustividad: 0.6743986254295533\n",
      "F1: 0.6895037329819939\n",
      "AUC: 0.7001901230740081\n"
     ]
    },
    {
     "data": {
      "image/png": "[encoded data removed]",
      "text/plain": [
       "<Figure size 432x288 with 1 Axes>"
      ]
     },
     "metadata": {
      "needs_background": "light"
     },
     "output_type": "display_data"
    }
   ],
   "source": [
    "#Tested performance on df test selection (2361 records)\n",
    "y_pred_cv = cross_val_predict(etc,\n",
    "                         test_x,\n",
    "                         test_y,\n",
    "                         cv = 10)\n",
    "\n",
    "metricas_modelos(test_y, y_pred_cv)"
   ]
  },
  {
   "cell_type": "markdown",
   "metadata": {},
   "source": [
    "**Clases de estrategias en los iteradores de Validación Cruzada**:  \n",
    "- `KFold`| from sklearn.model_selection import KFold  \n",
    "Se divide todo el dataset (las muestras) en  grupos del mismo tamaño, llamados pliegues. El modelo se entrena con K-1 pliegues y se valida con el que queda y así con todos.  \n",
    "<img src=\"https://www.researchgate.net/profile/Fabian_Pedregosa/publication/278826818/figure/fig10/AS:614336141750297@1523480558954/The-technique-of-KFold-cross-validation-illustrated-here-for-the-case-K-4-involves.png\" width=300 align=left>  "
   ]
  },
  {
   "cell_type": "code",
   "execution_count": 52,
   "metadata": {},
   "outputs": [
    {
     "name": "stdout",
     "output_type": "stream",
     "text": [
      "0.541 accuracy with a standard deviation of 0.02\n"
     ]
    }
   ],
   "source": [
    "from sklearn.model_selection import KFold\n",
    "kf = KFold(n_splits=2)\n",
    "n_scores = cross_val_score(etc, X, y, scoring='accuracy', cv=kf, n_jobs=-1, error_score='raise')\n",
    "# report performance\n",
    "\n",
    "print(\"%0.3f accuracy with a standard deviation of %0.2f\" % (n_scores.mean(), n_scores.std()))"
   ]
  },
  {
   "cell_type": "markdown",
   "metadata": {},
   "source": [
    "- `RepeatedKFold` | from sklearn.model_selection import RepeatedKFold  \n",
    "Repite el iterador K-Fold n veces con diferente semilla en cada iteración. Por tanto más pesado computacionalmente.  \n",
    "Para obtener resultados que se repitan, hay que establecer la ramdon_state  "
   ]
  },
  {
   "cell_type": "code",
   "execution_count": 53,
   "metadata": {},
   "outputs": [
    {
     "name": "stdout",
     "output_type": "stream",
     "text": [
      "0.720 accuracy with a standard deviation of 0.00\n"
     ]
    }
   ],
   "source": [
    "from sklearn.model_selection import RepeatedKFold\n",
    "rkf = RepeatedKFold(n_splits=2, n_repeats=2, random_state=2652124)\n",
    "n_scores = cross_val_score(etc, X, y, scoring='accuracy', cv=rkf, n_jobs=-1, error_score='raise')\n",
    "# report performance\n",
    "\n",
    "print(\"%0.3f accuracy with a standard deviation of %0.2f\" % (n_scores.mean(), n_scores.std()))"
   ]
  },
  {
   "cell_type": "markdown",
   "metadata": {},
   "source": [
    "Se nota una mejora del rendimiento si se repite 2 veces validación cruzada de Kfold (RepeatedKFold).  \n",
    "  \n",
    "\n",
    "- ` ShuffleSplit`| from sklearn.model_selection import ShuffleSplit  \n",
    "Este iterador generará un número definido por el usuario de divisiones de conjuntos de datos de prueba / validación independientes. Las muestras se mezclan de nuevo aleatoriamente en la siguiente iteración y así sucesivamente.  \n",
    "<img src=\"https://scikit-learn.org/stable/_images/sphx_glr_plot_cv_indices_0061.png\" width=400 align=left>"
   ]
  },
  {
   "cell_type": "code",
   "execution_count": 54,
   "metadata": {},
   "outputs": [
    {
     "name": "stdout",
     "output_type": "stream",
     "text": [
      "0.749 accuracy with a standard deviation of 0.01\n",
      "Wall time: 6.73 s\n"
     ]
    }
   ],
   "source": [
    "%%time\n",
    "from sklearn.model_selection import ShuffleSplit\n",
    "\n",
    "ss = ShuffleSplit(n_splits=5, test_size=0.25, random_state=0)\n",
    "n_scores = cross_val_score(etc, X, y, scoring='accuracy', cv=ss, n_jobs=-1, error_score='raise')\n",
    "# report performance\n",
    "\n",
    "print(\"%0.3f accuracy with a standard deviation of %0.2f\" % (n_scores.mean(), n_scores.std()))"
   ]
  },
  {
   "cell_type": "markdown",
   "metadata": {},
   "source": [
    "Coseguimos mejorar ligeramente el anterior rendimiento. Tenemos que tener en cuenta que a mayor número de iteraciones más costoso va a ser la computación del entrenamientod el modelo con todos los datos.  \n",
    "\n",
    "  \n",
    "- Iteradores estratíficados: `StratifiedKFoldy` y `StratifiedShuffleSplit` | from sklearn.model_selection import StratifiedKFold, StratifiedShuffleSplit  \n",
    "Cuando tenemos datos con la **variable objetivo desequilibrada** hacia una clase más que otra, es bueno utilizar este tipo de iteradores estratificados que aseguran que las proporciones relativas de la variable Y se conservan aproximadamente en cada iteración dentro de los pliegues de entrenamiento y validación.  \n",
    "\n",
    "<img src=\"https://scikit-learn.org/stable/_images/sphx_glr_plot_cv_indices_0071.png\" width=400 align=left>\n",
    "<img src=\"https://scikit-learn.org/stable/_images/sphx_glr_plot_cv_indices_0091.png\" width=400 align=left>  \n",
    "\n",
    "\n",
    "En nuestro caso al estar bastante balanceada la variable objetivo, no es necesario utilizar este tipo de iterador de validación cruzada."
   ]
  },
  {
   "cell_type": "code",
   "execution_count": 55,
   "metadata": {},
   "outputs": [
    {
     "name": "stdout",
     "output_type": "stream",
     "text": [
      "0.554 accuracy with a standard deviation of 0.04\n",
      "Wall time: 4.49 s\n"
     ]
    }
   ],
   "source": [
    "%%time\n",
    "from sklearn.model_selection import StratifiedKFold\n",
    "skf = StratifiedKFold(n_splits=3)\n",
    "n_scores = cross_val_score(etc, X, y, scoring='accuracy', cv=skf, n_jobs=-1, error_score='raise')\n",
    "# report performance\n",
    "\n",
    "print(\"%0.3f accuracy with a standard deviation of %0.2f\" % (n_scores.mean(), n_scores.std()))"
   ]
  },
  {
   "cell_type": "markdown",
   "metadata": {},
   "source": [
    "Como se puede observar, perdemos rendimiento con el iterador anterior.  \n",
    "\n",
    "- `RepeatedStratifiedKFold` se puede utilizar para repetir StratifiedKFold n veces con diferente aleatorización en cada repetición.  "
   ]
  },
  {
   "cell_type": "code",
   "execution_count": 56,
   "metadata": {},
   "outputs": [
    {
     "name": "stdout",
     "output_type": "stream",
     "text": [
      "0.760 accuracy with a standard deviation of 0.01\n",
      "Wall time: 22.8 s\n"
     ]
    }
   ],
   "source": [
    "%%time\n",
    "from sklearn.model_selection import RepeatedStratifiedKFold\n",
    "# evaluate the model using repeated stratified k-fold cross-validation, with three repeats and 10 folds.\n",
    "rskf = RepeatedStratifiedKFold(n_splits=10, n_repeats=3, random_state=1)\n",
    "n_scores = cross_val_score(etc, X, y, scoring='accuracy', cv=rskf, n_jobs=-1, error_score='raise')\n",
    "# report performance\n",
    "#print('Accuracy: %.3f (%.3f)' % (mean(n_scores), std(n_scores)))\n",
    "print(\"%0.3f accuracy with a standard deviation of %0.2f\" % (n_scores.mean(), n_scores.std()))"
   ]
  },
  {
   "cell_type": "markdown",
   "metadata": {},
   "source": [
    "# Unión de los diferentes apartados⛓ \n",
    "\n",
    "## Optimización del modelo | GridSearchCV\n",
    "Una vez definido el `Pipeline` es posible utilizar el objeto `GridSearchCV` o `RandomizedSearchCV` para obtener la cantidad de características optimas y el valor de los hiperparámetros más adecuados, en definitiva optimizar el modelo. Además podemos guardar todos los pasos en un sólo proceso y dejarlo preparado para producción al poderse guardar directamente (Persistencia de modelos) libraría pickle.  \n",
    "\n"
   ]
  },
  {
   "cell_type": "markdown",
   "metadata": {},
   "source": [
    "Optimizamos los parámetros del modelo con validación cruzada desde `GridSearchCV`"
   ]
  },
  {
   "cell_type": "code",
   "execution_count": 61,
   "metadata": {},
   "outputs": [
    {
     "name": "stdout",
     "output_type": "stream",
     "text": [
      "Best parameter (CV score=0.657):\n",
      "{'model__criterion': 'entropy', 'model__max_depth': 76, 'model__n_estimators': 75}\n",
      "Wall time: 19.2 s\n"
     ]
    }
   ],
   "source": [
    "%%time\n",
    "\n",
    "pca= PCA(n_components=14)\n",
    "\n",
    "pipe_pca = Pipeline(steps=[('preprocessor', preprocessor),\n",
    "                       ('pca', pca),\n",
    "                       ('model', etc)])\n",
    "#pipe_pca.fit(X, y)\n",
    "\n",
    "#Ya habíamos entrenado el modelo anteriormente, asique aprovechamos esa tiempo de computación\n",
    "\n",
    "# Parameters of pipelines can be set using name +‘__’+ parameter names:\n",
    "param_grid={\n",
    "        #'pca__n_components': range(4,16,4),\n",
    "        'model__criterion': ['gini', 'entropy'],\n",
    "        'model__n_estimators': range(25,100,25),\n",
    "        'model__max_depth': range(1,100,25),\n",
    "        #'model__max_features': [100],#range(50,150,50),#grid.best_params_ = {'n_estimators': 100}\n",
    "        #'min_samples_leaf': range(1,50,5),#grid.best_params_ = {'min_samples_leaf': 1}\n",
    "        #'min_samples_split': range(1,50,5),\n",
    "}\n",
    "\n",
    "ss = ShuffleSplit(n_splits=5, test_size=0.25, random_state=0)\n",
    "\n",
    "etc_pca = GridSearchCV(pipe_pca, param_grid=param_grid, n_jobs=-1, cv=ss)\n",
    "etc_pca.fit(X, y)\n",
    "print(\"Best parameter (CV score=%0.3f):\" % etc_pca.best_score_)\n",
    "print(etc_pca.best_params_)"
   ]
  },
  {
   "cell_type": "markdown",
   "metadata": {},
   "source": [
    "Optimizamos los parámetros del modelo con validación cruzada desde `RandomizedSearchCV`.  \n",
    "A diferencia de GridSearchCV, no se prueban todos los valores de los parámetros, sino que se generan números aleatorios y evalua el rendimiento. Los parametros se memorizan en un discionario. El número de ajustes de parámetros que se prueban viene dado por n_iter."
   ]
  },
  {
   "cell_type": "code",
   "execution_count": 64,
   "metadata": {},
   "outputs": [
    {
     "data": {
      "text/plain": [
       "array([1, 0, 0, 1, 0, 0, 1, 1, 0, 0])"
      ]
     },
     "execution_count": 64,
     "metadata": {},
     "output_type": "execute_result"
    }
   ],
   "source": [
    "np.random.randint(2, size=10)"
   ]
  },
  {
   "cell_type": "code",
   "execution_count": 65,
   "metadata": {},
   "outputs": [
    {
     "name": "stdout",
     "output_type": "stream",
     "text": [
      "El rendimiento el modelo es: 0.50254\n",
      "{'model__max_depth': 0.417022004702574, 'model__n_estimators': 96}\n"
     ]
    }
   ],
   "source": [
    "%%time\n",
    "from scipy.stats import uniform as sp_rand #Genera número aleatorios float dentro de la escala determinada\n",
    "from sklearn.model_selection import RandomizedSearchCV\n",
    "\n",
    "parameters = dict(model__n_estimators = np.random.randint(100, size=20),#para este caso no utilizamos sp_rand por que necesita enteros. Usamos np.random.randit()\n",
    "                  model__max_depth = sp_rand())\n",
    "\n",
    "#ss = ShuffleSplit(n_splits=5, test_size=0.25, random_state=0)\n",
    "\n",
    "rsearch = RandomizedSearchCV(estimator = pipe_pca,\n",
    "                             param_distributions = parameters,\n",
    "                             n_iter = 50,\n",
    "                             cv = 10,\n",
    "                             random_state = 1)\n",
    "\n",
    "rsearch.fit(X, y)\n",
    "\n",
    "print(u'El rendimiento el modelo es: %0.5f' % rsearch.score(X, y))\n",
    "print(rsearch.best_params_)"
   ]
  },
  {
   "cell_type": "markdown",
   "metadata": {},
   "source": [
    "Elegimos el modelo **etc_pca** como el modelo más óptimo. "
   ]
  },
  {
   "cell_type": "code",
   "execution_count": 75,
   "metadata": {},
   "outputs": [
    {
     "data": {
      "text/plain": [
       "{'model__criterion': 'entropy',\n",
       " 'model__max_depth': 76,\n",
       " 'model__n_estimators': 75}"
      ]
     },
     "execution_count": 75,
     "metadata": {},
     "output_type": "execute_result"
    }
   ],
   "source": [
    "#rsearch.get_params()\n",
    "etc_pca.best_params_"
   ]
  },
  {
   "cell_type": "code",
   "execution_count": 82,
   "metadata": {},
   "outputs": [
    {
     "name": "stdout",
     "output_type": "stream",
     "text": [
      "El criterio utilizado es: entropy\n",
      "La profundidad del árbol utlizado es: 76\n"
     ]
    }
   ],
   "source": [
    "print(u'El criterio utilizado es:', etc_pca.best_params_['model__criterion'])\n",
    "print(u'La profundidad del árbol utlizado es:', etc_pca.best_params_['model__max_depth'])"
   ]
  },
  {
   "cell_type": "code",
   "execution_count": 84,
   "metadata": {},
   "outputs": [],
   "source": [
    "#%%time\n",
    "#Se podría generar el modelo con los mejores parámetros obtenidos\n",
    "#model_et = ExtraTreesClassifier(**etc_pca.best_params_)\n",
    "#model_et.fit(X, y)\n",
    "\n",
    "#Per en este caso nos quedaremos directamente con la Canalización desarrollada: ect_pca"
   ]
  },
  {
   "cell_type": "code",
   "execution_count": 77,
   "metadata": {},
   "outputs": [
    {
     "name": "stdout",
     "output_type": "stream",
     "text": [
      "La matriz de confusión es \n",
      "[[2718    0]\n",
      " [   0 2791]]\n",
      "Precisión: 1.0\n",
      "Exactitud: 1.0\n",
      "Exhaustividad: 1.0\n",
      "F1: 1.0\n",
      "AUC: 1.0\n",
      "Wall time: 243 ms\n"
     ]
    },
    {
     "data": {
      "image/png": "[encoded data removed]",
      "text/plain": [
       "<Figure size 432x288 with 1 Axes>"
      ]
     },
     "metadata": {
      "needs_background": "light"
     },
     "output_type": "display_data"
    }
   ],
   "source": [
    "%%time\n",
    "#Nos quedamos con el modelo \"etc_pca\" con GridSearchCV que nos ha dado mejor rendimiento y comprobamos el rendimiento en train y test\n",
    "\n",
    "#Check with train and test set to see if there is overfit in model performance\n",
    "y_pred = etc_pca.predict(train_x)\n",
    "\n",
    "metricas_modelos(train_y, y_pred)"
   ]
  },
  {
   "cell_type": "code",
   "execution_count": 71,
   "metadata": {},
   "outputs": [
    {
     "name": "stdout",
     "output_type": "stream",
     "text": [
      "La matriz de confusión es \n",
      "[[1197    0]\n",
      " [   0 1164]]\n",
      "Precisión: 1.0\n",
      "Exactitud: 1.0\n",
      "Exhaustividad: 1.0\n",
      "F1: 1.0\n",
      "AUC: 1.0\n"
     ]
    },
    {
     "data": {
      "image/png": "[encoded data removed]",
      "text/plain": [
       "<Figure size 432x288 with 1 Axes>"
      ]
     },
     "metadata": {
      "needs_background": "light"
     },
     "output_type": "display_data"
    }
   ],
   "source": [
    "#Check overfit in the df test\n",
    "y_pred_test = etc_pca.predict(test_x)\n",
    "metricas_modelos(test_y, y_pred_test)"
   ]
  },
  {
   "cell_type": "markdown",
   "metadata": {},
   "source": [
    "## Persistencia de modelos"
   ]
  },
  {
   "cell_type": "markdown",
   "metadata": {},
   "source": [
    "Referencia: https://scikit-learn.org/stable/modules/model_persistence.html  \n",
    "Después de entrenar un modelo y tener el que puede ser el definitivo, es recomendable tener una forma de conservar el modelo para uso futuro sin tener que volver a entrenarlo.  \n",
    "\n",
    "- Librería `pickle` | import pickle  "
   ]
  },
  {
   "cell_type": "code",
   "execution_count": 78,
   "metadata": {},
   "outputs": [],
   "source": [
    "import pickle\n",
    "s = pickle.dumps(etc_pca) #Guardar modelo\n",
    "etc_final = pickle.loads(s) #Cargar modelo"
   ]
  },
  {
   "cell_type": "code",
   "execution_count": 79,
   "metadata": {},
   "outputs": [
    {
     "name": "stdout",
     "output_type": "stream",
     "text": [
      "La matriz de confusión es \n",
      "[[2718    0]\n",
      " [   0 2791]]\n",
      "Precisión: 1.0\n",
      "Exactitud: 1.0\n",
      "Exhaustividad: 1.0\n",
      "F1: 1.0\n",
      "AUC: 1.0\n"
     ]
    },
    {
     "data": {
      "image/png": "[encoded data removed]",
      "text/plain": [
       "<Figure size 432x288 with 1 Axes>"
      ]
     },
     "metadata": {
      "needs_background": "light"
     },
     "output_type": "display_data"
    }
   ],
   "source": [
    "y_pred = etc_final.predict(train_x)\n",
    "\n",
    "metricas_modelos(train_y, y_pred)"
   ]
  },
  {
   "cell_type": "code",
   "execution_count": 85,
   "metadata": {},
   "outputs": [
    {
     "name": "stdout",
     "output_type": "stream",
     "text": [
      "La matriz de confusión es \n",
      "[[1197    0]\n",
      " [   0 1164]]\n",
      "Precisión: 1.0\n",
      "Exactitud: 1.0\n",
      "Exhaustividad: 1.0\n",
      "F1: 1.0\n",
      "AUC: 1.0\n"
     ]
    },
    {
     "data": {
      "image/png": "[encoded data removed]",
      "text/plain": [
       "<Figure size 432x288 with 1 Axes>"
      ]
     },
     "metadata": {
      "needs_background": "light"
     },
     "output_type": "display_data"
    }
   ],
   "source": [
    "#Check overfit in the df test\n",
    "y_pred_test = etc_final.predict(test_x)\n",
    "metricas_modelos(test_y, y_pred_test)"
   ]
  },
  {
   "cell_type": "markdown",
   "metadata": {},
   "source": [
    "Como se puede observar, el en modelo simple generado al principio conseguiamos AUC=0.74 habiendo aumentado el rendimiento AUC=1 con la optimización desarrollada además de disminuir la dimensionalidad lo que mejora los tiempos de procesado al escalar a producción con los datos completos."
   ]
  }
 ],
 "metadata": {
  "kernelspec": {
   "display_name": "Python 3",
   "language": "python",
   "name": "python3"
  },
  "language_info": {
   "codemirror_mode": {
    "name": "ipython",
    "version": 3
   },
   "file_extension": ".py",
   "mimetype": "text/x-python",
   "name": "python",
   "nbconvert_exporter": "python",
   "pygments_lexer": "ipython3",
   "version": "3.8.2"
  }
 },
 "nbformat": 4,
 "nbformat_minor": 4
}
